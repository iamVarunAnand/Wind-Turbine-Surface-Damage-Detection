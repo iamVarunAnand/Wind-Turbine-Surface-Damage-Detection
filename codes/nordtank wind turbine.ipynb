{
 "cells": [
  {
   "cell_type": "markdown",
   "metadata": {
    "colab_type": "text",
    "id": "CvrqPAmdrOZ0"
   },
   "source": [
    "## **NOTE - CELLS 1-4 CONTAIN CODE THAT HELPS IMPORT THE DATASET FROM GOOGLE DRIVE, THE CODE FOR DEVELOPING THE MODEL STARTS FROM CELL 5**"
   ]
  },
  {
   "cell_type": "code",
   "execution_count": 0,
   "metadata": {
    "colab": {},
    "colab_type": "code",
    "id": "WnDLgtTR2qoy"
   },
   "outputs": [],
   "source": [
    "## Google Drive Acknowledgement and mounting\n",
    "from google.colab import drive\n",
    "drive.mount('/content/drive')"
   ]
  },
  {
   "cell_type": "code",
   "execution_count": 0,
   "metadata": {
    "colab": {},
    "colab_type": "code",
    "id": "R7QyNr2o25FL"
   },
   "outputs": [],
   "source": [
    "! pip install pydrive\n",
    "import pydrive\n",
    "from pydrive.auth import GoogleAuth\n",
    "from pydrive.drive import GoogleDrive\n",
    "from google.colab import auth\n",
    "from oauth2client.client import GoogleCredentials\n",
    "\n",
    "# 1. Authenticate and create the PyDrive client.\n",
    "auth.authenticate_user()\n",
    "gauth = GoogleAuth()\n",
    "gauth.credentials = GoogleCredentials.get_application_default()\n",
    "drive = GoogleDrive(gauth)"
   ]
  },
  {
   "cell_type": "code",
   "execution_count": 0,
   "metadata": {
    "colab": {},
    "colab_type": "code",
    "id": "_SwSbMZO2_Jt"
   },
   "outputs": [],
   "source": [
    "def get_file_from_drive(file_name):\n",
    "  file_list = drive.ListFile({'q': \"'1nZC09V7krEuUtRTOZkx-IB87LN2Jv46i' in parents and trashed=false\"}).GetList()\n",
    "  for file in file_list:\n",
    "    if(file['title'] == file_name):\n",
    "      return file['id']\n",
    "    \n",
    "def upload_data_system(file_name):\n",
    "  downloaded = drive.CreateFile({'id': get_file_from_drive(file_name)})\n",
    "  downloaded.GetContentFile(file_name)"
   ]
  },
  {
   "cell_type": "code",
   "execution_count": 0,
   "metadata": {
    "colab": {},
    "colab_type": "code",
    "id": "j2xj6rY93EH1"
   },
   "outputs": [],
   "source": [
    "def import_data_to_runtime():\n",
    "  # importing the data from google to drive to the hosted runtime\n",
    "  print('Importing Data to Runtime...')\n",
    "  upload_data_system('train_images.npy')\n",
    "  upload_data_system('train_labels.npy')\n",
    "  upload_data_system('coord.npy')\n",
    "#   upload_data_system('train_images_18.npy')\n",
    "#   upload_data_system('train_labels_18.npy')\n",
    "#   upload_data_system('train_images_17.npy')\n",
    "#   upload_data_system('train_labels_17.npy')"
   ]
  },
  {
   "cell_type": "code",
   "execution_count": 0,
   "metadata": {
    "colab": {},
    "colab_type": "code",
    "id": "aPoTMyIdoHJg"
   },
   "outputs": [],
   "source": [
    "# import the necessary packages\n",
    "from keras_applications.resnet import ResNet50\n",
    "from keras.models import Sequential\n",
    "from keras.layers import Dense, Flatten, Dropout\n",
    "from keras import regularizers\n",
    "from sklearn.model_selection import train_test_split\n",
    "import keras.backend, keras.layers, keras.models, keras.utils\n",
    "import numpy as np\n",
    "import cv2\n",
    "import matplotlib.pyplot as plt"
   ]
  },
  {
   "cell_type": "code",
   "execution_count": 0,
   "metadata": {
    "colab": {},
    "colab_type": "code",
    "id": "p3gH3np52myF"
   },
   "outputs": [],
   "source": [
    "def extract_foreground(image, rect):\n",
    "  mask = np.zeros(img.shape[:2], np.uint8)\n",
    "\n",
    "  bgdModel = np.zeros((1, 65), np.float64)\n",
    "  fgdModel = np.zeros((1, 65), np.float64)\n",
    "\n",
    "  rect = (77, 0, 98, 224)\n",
    "\n",
    "  print(\"[INFO] Extracting Foreground...\")\n",
    "  cv2.grabCut(img, mask, rect, bgdModel, fgdModel, 10, cv2.GC_INIT_WITH_RECT)\n",
    "\n",
    "  mask2 = np.where((mask == 0) | (mask == 2), 0, 1).astype('uint8')\n",
    "  \n",
    "  return img = img * mask2[:, :, np.newaxis]"
   ]
  },
  {
   "cell_type": "code",
   "execution_count": 0,
   "metadata": {
    "colab": {},
    "colab_type": "code",
    "id": "wo3T55_qYBeH"
   },
   "outputs": [],
   "source": [
    "def preprocess_images():\n",
    "  # load the images into memory\n",
    "  train_images = np.load('train_images.npy')\n",
    "  coord = np.load('coord.npy')\n",
    "  \n",
    "  train_images_processed = []\n",
    "  count = 1\n",
    "  # resize the images to fit the input shape\n",
    "  # of resnet (224, 224)\n",
    "  for (i, image) in enumerate(train_images):\n",
    "    resized_image = cv2.resize(image, (224, 224), cv2.INTER_AREA)\n",
    "    foreground_extracted_image = extract_foreground(image, coord[i])\n",
    "    train_images_processes.append(resized_image)\n",
    "    print(\"Resized image {}/{}\".format(count, train_images.shape[0]))\n",
    "    count = count + 1\n",
    "  \n",
    "  np.save('train_images_preprocessed.npy', np.array(train_images_preprocessed))\n",
    "  "
   ]
  },
  {
   "cell_type": "code",
   "execution_count": 0,
   "metadata": {
    "colab": {},
    "colab_type": "code",
    "id": "iU1uh9wyopI8"
   },
   "outputs": [],
   "source": [
    "def build_model():  \n",
    "  base_model = ResNet50(include_top = False, backend = keras.backend, layers = keras.layers, models = keras.models, utils = keras.utils, input_shape = (224, 224, 3))\n",
    "  \n",
    "  model = Sequential()\n",
    "  model.add(base_model)\n",
    "  model.add(Flatten())\n",
    "  model.add(Dense(units = 32, activation = 'relu', kernel_initializer = 'he_normal'))\n",
    "  model.add(Dense(units = 1, activation = 'sigmoid', kernel_initializer = 'he_normal'))\n",
    "  \n",
    "  model.compile(loss = 'binary_crossentropy', optimizer = 'adam', metrics = ['accuracy'])\n",
    "  \n",
    "  print(model.summary())\n",
    "  \n",
    "  return model"
   ]
  },
  {
   "cell_type": "code",
   "execution_count": 0,
   "metadata": {
    "colab": {},
    "colab_type": "code",
    "id": "ukzoG4F64C8K"
   },
   "outputs": [],
   "source": [
    "def load_data():\n",
    "  # load the data into memory and split the dataset into train and test splits\n",
    "  train_images = np.load('train_images_preprocessed.npy')\n",
    "  train_labels = np.load('train_labels.npy')\n",
    "\n",
    "  x_train, x_test, y_train, y_test = train_test_split(train_images, train_labels, test_size = 0.15, random_state = 100)\n",
    "  \n",
    "  return x_train, x_test, y_train, y_test"
   ]
  },
  {
   "cell_type": "code",
   "execution_count": 0,
   "metadata": {
    "colab": {},
    "colab_type": "code",
    "id": "jlK7kq7vncap"
   },
   "outputs": [],
   "source": [
    "import_data_to_runtime()\n",
    "preprocess_images()\n",
    "model = build_model()\n",
    "x_train, x_test, y_train, y_test = load_data()\n",
    "History = model.fit(x_train, y_train, epochs = 50, batch_size = 32, validation_data = (x_test, y_test))"
   ]
  },
  {
   "cell_type": "code",
   "execution_count": 0,
   "metadata": {
    "colab": {},
    "colab_type": "code",
    "id": "25bijCVWzz0W"
   },
   "outputs": [],
   "source": [
    "def wrong_predictions():\n",
    "  # function returns indices of images that the model predicted wrong\n",
    "  y_test2 = np.reshape(y_test, (y_test.shape[0], 1))\n",
    "  y_pred = model.predict(x_test)\n",
    "  result = np.array(y_pred >= 0.5)\n",
    "  indices = np.where(result != y_test2)\n",
    "  \n",
    "  return indices"
   ]
  },
  {
   "cell_type": "code",
   "execution_count": 0,
   "metadata": {
    "colab": {},
    "colab_type": "code",
    "id": "SKQDVdWb_5QH"
   },
   "outputs": [],
   "source": [
    "def plot_wrong_predictions():\n",
    "  indices = wrong_predictions()\n",
    "\n",
    "  count = 1\n",
    "  for i in indices[0]:\n",
    "    plt.subplot(3, 3, count)\n",
    "    plt.imshow(x_test[i].astype(np.float32))\n",
    "    count = count + 1"
   ]
  },
  {
   "cell_type": "code",
   "execution_count": 0,
   "metadata": {
    "colab": {},
    "colab_type": "code",
    "id": "E8H5payfBLEc"
   },
   "outputs": [],
   "source": [
    "model.save('RS50w32_1.h5')"
   ]
  },
  {
   "cell_type": "code",
   "execution_count": 1,
   "metadata": {
    "colab": {},
    "colab_type": "code",
    "id": "MVxVK9HE4yGh"
   },
   "outputs": [
    {
     "ename": "ModuleNotFoundError",
     "evalue": "No module named 'keras'",
     "output_type": "error",
     "traceback": [
      "\u001b[1;31m---------------------------------------------------------------------------\u001b[0m",
      "\u001b[1;31mModuleNotFoundError\u001b[0m                       Traceback (most recent call last)",
      "\u001b[1;32m<ipython-input-1-d215e82bab44>\u001b[0m in \u001b[0;36m<module>\u001b[1;34m\u001b[0m\n\u001b[1;32m----> 1\u001b[1;33m \u001b[1;32mfrom\u001b[0m \u001b[0mkeras\u001b[0m\u001b[1;33m.\u001b[0m\u001b[0mapplications\u001b[0m \u001b[1;32mimport\u001b[0m \u001b[0mResNet50\u001b[0m\u001b[1;33m\u001b[0m\u001b[0m\n\u001b[0m",
      "\u001b[1;31mModuleNotFoundError\u001b[0m: No module named 'keras'"
     ]
    }
   ],
   "source": []
  }
 ],
 "metadata": {
  "accelerator": "GPU",
  "colab": {
   "collapsed_sections": [],
   "name": "Nordtank Wind Turbine.ipynb",
   "provenance": [],
   "version": "0.3.2"
  },
  "kernelspec": {
   "display_name": "Python 3",
   "language": "python",
   "name": "python3"
  },
  "language_info": {
   "codemirror_mode": {
    "name": "ipython",
    "version": 3
   },
   "file_extension": ".py",
   "mimetype": "text/x-python",
   "name": "python",
   "nbconvert_exporter": "python",
   "pygments_lexer": "ipython3",
   "version": "3.6.3"
  }
 },
 "nbformat": 4,
 "nbformat_minor": 1
}
